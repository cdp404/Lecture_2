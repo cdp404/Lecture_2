{
 "cells": [
  {
   "cell_type": "markdown",
   "metadata": {},
   "source": [
    "# Dictionary"
   ]
  },
  {
   "cell_type": "code",
   "execution_count": 7,
   "metadata": {},
   "outputs": [
    {
     "name": "stdout",
     "output_type": "stream",
     "text": [
      "{'성': '홍', '이름': '길동', '직장': '강남'}\n"
     ]
    },
    {
     "data": {
      "text/plain": [
       "3"
      ]
     },
     "execution_count": 7,
     "metadata": {},
     "output_type": "execute_result"
    }
   ],
   "source": [
    "people_info = {'성':'홍','이름':'길동','직장':'강남'}\n",
    "people_info_list = [{'성':'홍','이름':'길동','직장':'강남'},{'성':'홍','이름':'당무','직장':'강남'}]\n",
    "print(people_info)\n",
    "len(people_info)\n",
    "len(people_info_list)\n",
    "len(people_info_list[0])"
   ]
  },
  {
   "cell_type": "code",
   "execution_count": 12,
   "metadata": {},
   "outputs": [
    {
     "name": "stdout",
     "output_type": "stream",
     "text": [
      "길동\n",
      "강남\n"
     ]
    }
   ],
   "source": [
    "people_info = {'성':'홍','이름':'길동','직장':'강남'}\n",
    "\n",
    "print(people_info['이름'])\n",
    "print(people_info['직장'])"
   ]
  },
  {
   "cell_type": "code",
   "execution_count": 42,
   "metadata": {},
   "outputs": [
    {
     "name": "stdout",
     "output_type": "stream",
     "text": [
      "dict_keys(['성', '이름', '직장'])\n",
      "dict_values(['홍', '길동', '강남'])\n"
     ]
    },
    {
     "data": {
      "text/plain": [
       "dict_keys"
      ]
     },
     "execution_count": 42,
     "metadata": {},
     "output_type": "execute_result"
    }
   ],
   "source": [
    "people_info = {'성':'홍','이름':'길동','직장':'강남'}\n",
    "print(people_info.keys())\n",
    "print(people_info.values())\n",
    "type(people_info.keys())"
   ]
  },
  {
   "cell_type": "code",
   "execution_count": 43,
   "metadata": {},
   "outputs": [
    {
     "name": "stdout",
     "output_type": "stream",
     "text": [
      "{'성': '홍', '이름': '태경', '직장': '강남'}\n"
     ]
    }
   ],
   "source": [
    "people_info = {'성':'홍','이름':'길동','직장':'강남'}\n",
    "people_info['이름'] = '태경'\n",
    "print(people_info)"
   ]
  },
  {
   "cell_type": "code",
   "execution_count": 44,
   "metadata": {},
   "outputs": [
    {
     "name": "stdout",
     "output_type": "stream",
     "text": [
      "{'성': '홍', '이름': '길동', '직장': '강남'}\n"
     ]
    }
   ],
   "source": [
    "people_info = {'성':'홍','이름':'길동','직장':'강남','취미':'테니스'}\n",
    "del people_info['취미']\n",
    "print(people_info)"
   ]
  },
  {
   "cell_type": "code",
   "execution_count": 52,
   "metadata": {},
   "outputs": [
    {
     "data": {
      "text/plain": [
       "True"
      ]
     },
     "execution_count": 52,
     "metadata": {},
     "output_type": "execute_result"
    }
   ],
   "source": [
    "people_info = {'성':'홍','이름':'길동','직장':'강남'}\n",
    "'성' in people_info.keys()"
   ]
  },
  {
   "cell_type": "code",
   "execution_count": 73,
   "metadata": {},
   "outputs": [
    {
     "data": {
      "text/plain": [
       "True"
      ]
     },
     "execution_count": 73,
     "metadata": {},
     "output_type": "execute_result"
    }
   ],
   "source": [
    "people_info = {'성':'홍','이름':'길동','직장':'강남'}\n",
    "'홍' in people_info['성']"
   ]
  },
  {
   "cell_type": "markdown",
   "metadata": {},
   "source": [
    "## 딕셔너리 병합(update)"
   ]
  },
  {
   "cell_type": "code",
   "execution_count": 79,
   "metadata": {},
   "outputs": [
    {
     "name": "stdout",
     "output_type": "stream",
     "text": [
      "{'성': '홍', '이름': '길동', '직장': '강남', '취미': '테니스', '주소': '서울', '나이': '25'}\n"
     ]
    }
   ],
   "source": [
    "people_info_1 = {'성':'홍','이름':'길동','직장':'강남','취미':'테니스'}\n",
    "people_info_2 = {'주소':'서울','나이':'25'}\n",
    "\n",
    "people_info_1.update(people_info_2)\n",
    "print(people_info_1)"
   ]
  },
  {
   "cell_type": "code",
   "execution_count": null,
   "metadata": {},
   "outputs": [],
   "source": []
  }
 ],
 "metadata": {
  "kernelspec": {
   "display_name": "Python 3",
   "language": "python",
   "name": "python3"
  },
  "language_info": {
   "codemirror_mode": {
    "name": "ipython",
    "version": 3
   },
   "file_extension": ".py",
   "mimetype": "text/x-python",
   "name": "python",
   "nbconvert_exporter": "python",
   "pygments_lexer": "ipython3",
   "version": "3.8.3"
  }
 },
 "nbformat": 4,
 "nbformat_minor": 4
}
